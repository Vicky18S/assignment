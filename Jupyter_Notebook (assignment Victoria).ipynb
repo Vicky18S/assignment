{
  "metadata": {
    "kernelspec": {
      "name": "python",
      "display_name": "Pyolite",
      "language": "python"
    },
    "language_info": {
      "codemirror_mode": {
        "name": "python",
        "version": 3
      },
      "file_extension": ".py",
      "mimetype": "text/x-python",
      "name": "python",
      "nbconvert_exporter": "python",
      "pygments_lexer": "ipython3",
      "version": "3.8"
    }
  },
  "nbformat_minor": 4,
  "nbformat": 4,
  "cells": [
    {
      "cell_type": "markdown",
      "source": "<center>\n    <img src=\"https://cf-courses-data.s3.us.cloud-object-storage.appdomain.cloud/IBMDeveloperSkillsNetwork-DS0105EN-SkillsNetwork/labs/Module2/images/SN_web_lightmode.png\" width=\"300\" alt=\"cognitiveclass.ai logo\"  />\n</center>\n",
      "metadata": {}
    },
    {
      "cell_type": "markdown",
      "source": "#### Add your code below following the instructions given in the course\n",
      "metadata": {}
    },
    {
      "cell_type": "markdown",
      "source": "# My Jupiter Notebook on IBM Watson Studio.",
      "metadata": {}
    },
    {
      "cell_type": "markdown",
      "source": "**Victoria Shilina**  \ndata scientist\n",
      "metadata": {}
    },
    {
      "cell_type": "markdown",
      "source": "*I'm interested in data science because this profession has future. I'm curious about everything around, I like to analyse and uncover insights.*",
      "metadata": {}
    },
    {
      "cell_type": "markdown",
      "source": "### I want to find perimeter of the triangle knowing size of all his three sides.",
      "metadata": {}
    },
    {
      "cell_type": "code",
      "source": "def perimeter (side1, side2, side3):\n    \"\"\"\n>>>perimeter (1,2,3)\n6\n>>>perimeter (1,3,5)\n9\n\"\"\"\n    return side1+side2+side3\n\nperimeter(2,4,5)\n",
      "metadata": {
        "trusted": true
      },
      "execution_count": 1,
      "outputs": [
        {
          "execution_count": 1,
          "output_type": "execute_result",
          "data": {
            "text/plain": "11"
          },
          "metadata": {}
        }
      ]
    },
    {
      "cell_type": "markdown",
      "source": "__*Classification of pathogens*__\n\n|type|link|examples|\n|------|------|-----|\n|bacteria|[common information](https://en.wikipedia.org/wiki/Bacteria)|Brucellosis, Cholera, Tetanus|\n|protist|[common information](https://en.wikipedia.org/wiki/Protist)|Malaria, Toxoplasmosis, Leishmaniasis|\n|virus|[common information](https://en.wikipedia.org/wiki/Virus)|Flu, Hepatitis, AIDS|\n\n### How we can protect ourselves\n1. hygiene\n2. eat only well cooked food or well cleaned\n3. maintain immunity\n",
      "metadata": {}
    }
  ]
}